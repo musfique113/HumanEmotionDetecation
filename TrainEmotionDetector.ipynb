{
 "cells": [
  {
   "cell_type": "markdown",
   "id": "5f0418a7",
   "metadata": {},
   "source": [
    "# Human Emotion Detection - AI Lab Project"
   ]
  },
  {
   "cell_type": "markdown",
   "id": "dd8f8ed4",
   "metadata": {},
   "source": [
    "### Importing necessary packages "
   ]
  },
  {
   "cell_type": "code",
   "execution_count": null,
   "id": "311f5d44",
   "metadata": {},
   "outputs": [],
   "source": [
    "import cv2\n",
    "from keras.models import Sequential\n",
    "from keras.layers import Conv2D, MaxPooling2D, Dense, Dropout, Flatten\n",
    "from keras.optimizers import Adam\n",
    "from keras.preprocessing.image import ImageDataGenerator\n",
    "import scipy\n",
    "import warnings"
   ]
  },
  {
   "cell_type": "markdown",
   "id": "013cc0d5",
   "metadata": {},
   "source": [
    "### Initializeing image data generator with rescaling"
   ]
  },
  {
   "cell_type": "code",
   "execution_count": null,
   "id": "96787ba1",
   "metadata": {},
   "outputs": [],
   "source": [
    "train_data_gen = ImageDataGenerator(rescale=1./255)\n",
    "validation_data_gen = ImageDataGenerator(rescale=1./255)"
   ]
  },
  {
   "cell_type": "markdown",
   "id": "3d363894",
   "metadata": {},
   "source": [
    "### Preprocessing all train images"
   ]
  },
  {
   "cell_type": "code",
   "execution_count": null,
   "id": "b2630284",
   "metadata": {},
   "outputs": [],
   "source": [
    "train_generator = train_data_gen.flow_from_directory(\n",
    "        'data/train',\n",
    "        target_size=(48, 48),\n",
    "        batch_size=64,\n",
    "        color_mode=\"grayscale\",\n",
    "        class_mode='categorical')"
   ]
  },
  {
   "cell_type": "markdown",
   "id": "e223a587",
   "metadata": {
    "tags": []
   },
   "source": [
    "### Preprocessing all test images"
   ]
  },
  {
   "cell_type": "code",
   "execution_count": null,
   "id": "48c82df2",
   "metadata": {},
   "outputs": [],
   "source": [
    "validation_generator = validation_data_gen.flow_from_directory(\n",
    "        'data/test',\n",
    "        target_size=(48, 48),\n",
    "        batch_size=64,\n",
    "        color_mode=\"grayscale\",\n",
    "        class_mode='categorical')"
   ]
  },
  {
   "cell_type": "markdown",
   "id": "572ed465",
   "metadata": {},
   "source": [
    "### Creating model structure\n",
    "- Convolutional Neural Networks (CNNs)"
   ]
  },
  {
   "cell_type": "code",
   "execution_count": null,
   "id": "d7479593",
   "metadata": {
    "tags": []
   },
   "outputs": [],
   "source": [
    "emotion_model = Sequential()\n",
    "\n",
    "emotion_model.add(Conv2D(32, kernel_size=(3, 3), activation='relu', input_shape=(48, 48, 1)))\n",
    "emotion_model.add(Conv2D(64, kernel_size=(3, 3), activation='relu'))\n",
    "emotion_model.add(MaxPooling2D(pool_size=(2, 2)))\n",
    "emotion_model.add(Dropout(0.25))\n",
    "\n",
    "emotion_model.add(Conv2D(128, kernel_size=(3, 3), activation='relu'))\n",
    "emotion_model.add(MaxPooling2D(pool_size=(2, 2)))\n",
    "emotion_model.add(Conv2D(128, kernel_size=(3, 3), activation='relu'))\n",
    "emotion_model.add(MaxPooling2D(pool_size=(2, 2)))\n",
    "emotion_model.add(Dropout(0.25))\n",
    "\n",
    "emotion_model.add(Flatten())\n",
    "emotion_model.add(Dense(1024, activation='relu'))\n",
    "emotion_model.add(Dropout(0.5))\n",
    "emotion_model.add(Dense(7, activation='softmax'))\n",
    "\n",
    "cv2.ocl.setUseOpenCL(False)\n",
    "\n",
    "emotion_model.compile(loss='categorical_crossentropy', optimizer=Adam(lr=0.0001, decay=1e-6), metrics=['accuracy'])"
   ]
  },
  {
   "cell_type": "markdown",
   "id": "24ee8fff",
   "metadata": {},
   "source": [
    "### Training the neural network/model\n",
    "- more the epochs , more the accuracy \n",
    "- 35887 models to train"
   ]
  },
  {
   "cell_type": "code",
   "execution_count": null,
   "id": "20d3fd99",
   "metadata": {
    "tags": []
   },
   "outputs": [],
   "source": [
    "motion_model_info = emotion_model.fit_generator(\n",
    "        train_generator,\n",
    "        steps_per_epoch=35887 // 64,\n",
    "        epochs=1,\n",
    "        validation_data=validation_generator,\n",
    "        validation_steps=7178 // 64)"
   ]
  },
  {
   "cell_type": "markdown",
   "id": "9ed523d9",
   "metadata": {},
   "source": [
    "### Saving model structure in jason file"
   ]
  },
  {
   "cell_type": "code",
   "execution_count": null,
   "id": "f6fd2cc8",
   "metadata": {},
   "outputs": [],
   "source": [
    "model_json = emotion_model.to_json()\n",
    "with open(\"model/newemotion_model.json\", \"w\") as json_file:\n",
    "    json_file.write(model_json)"
   ]
  },
  {
   "cell_type": "markdown",
   "id": "254b3a55",
   "metadata": {},
   "source": [
    "### Saving trained model weight in .h5 file"
   ]
  },
  {
   "cell_type": "code",
   "execution_count": null,
   "id": "175f9337",
   "metadata": {},
   "outputs": [],
   "source": []
  },
  {
   "cell_type": "code",
   "execution_count": null,
   "id": "6aec0afb",
   "metadata": {},
   "outputs": [],
   "source": [
    "emotion_model.save_weights('model/newemotion_model.h5')"
   ]
  }
 ],
 "metadata": {
  "kernelspec": {
   "display_name": "Python 3 (ipykernel)",
   "language": "python",
   "name": "python3"
  },
  "language_info": {
   "codemirror_mode": {
    "name": "ipython",
    "version": 3
   },
   "file_extension": ".py",
   "mimetype": "text/x-python",
   "name": "python",
   "nbconvert_exporter": "python",
   "pygments_lexer": "ipython3",
   "version": "3.10.5"
  },
  "varInspector": {
   "cols": {
    "lenName": 16,
    "lenType": 16,
    "lenVar": 40
   },
   "kernels_config": {
    "python": {
     "delete_cmd_postfix": "",
     "delete_cmd_prefix": "del ",
     "library": "var_list.py",
     "varRefreshCmd": "print(var_dic_list())"
    },
    "r": {
     "delete_cmd_postfix": ") ",
     "delete_cmd_prefix": "rm(",
     "library": "var_list.r",
     "varRefreshCmd": "cat(var_dic_list()) "
    }
   },
   "types_to_exclude": [
    "module",
    "function",
    "builtin_function_or_method",
    "instance",
    "_Feature"
   ],
   "window_display": false
  }
 },
 "nbformat": 4,
 "nbformat_minor": 5
}
